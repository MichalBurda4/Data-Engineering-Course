{
 "cells": [
  {
   "cell_type": "code",
   "execution_count": 1,
   "id": "10bc99e9-2432-454a-80aa-e4c3511be635",
   "metadata": {},
   "outputs": [],
   "source": [
    "#Exercise 1 to dobrze "
   ]
  },
  {
   "cell_type": "code",
   "execution_count": 2,
   "id": "331c800c-533c-4b78-9e97-497bdb701536",
   "metadata": {},
   "outputs": [],
   "source": [
    "import pandas as pd"
   ]
  },
  {
   "cell_type": "code",
   "execution_count": 3,
   "id": "baa341ab-9d21-46e4-ac72-e37485b30a94",
   "metadata": {},
   "outputs": [
    {
     "name": "stdout",
     "output_type": "stream",
     "text": [
      "DataFrame został pomyślnie wczytany i zapisany do proj2_ex01.pkl.\n",
      "          full_name   field   language code  task_1  task_2  task_3  \\\n",
      "0  Rowan Harrington  drones     python  wej     3.1     2.0     4.4   \n",
      "1        Nash Wyatt  racing       java  sfe     4.2     2.0     2.0   \n",
      "2    Jadiel Ramirez   media  cplusplus  vaw     4.0     4.9     3.0   \n",
      "3    Makaila Atkins  racing      swift  ugt     4.1     5.0     4.8   \n",
      "4    Melanie Fuller  racing     python  owb     2.7     2.0     2.0   \n",
      "\n",
      "   tasks_avg    task_grade jury_score  final_grade  \n",
      "0   3.166667   dostateczny    3,5 pts  dostateczny  \n",
      "1   2.733333  bardzo dobry        5 p       mierny  \n",
      "2   3.966667         dobry        3.5       mierny  \n",
      "3   4.633333         dobry          2  dostateczny  \n",
      "4   2.233333  bardzo dobry      pts 2       mierny  \n"
     ]
    }
   ],
   "source": [
    "# Definiujemy potencjalne separatory i znaki dziesiętne\n",
    "separatory = ['|', ';', ',']\n",
    "znaki_dziesietne = ['.', ',']\n",
    "\n",
    "# Próbujemy odczytać plik z różnymi separatorami i znakami dziesiętnymi\n",
    "for separator in separatory:\n",
    "    for znak_dziesietny in znaki_dziesietne:\n",
    "        try:\n",
    "            df = pd.read_csv(\"proj2_data.csv\", sep=separator, decimal=znak_dziesietny)\n",
    "            # Sprawdzamy, czy DataFrame ma przynajmniej jedną kolumnę z liczbami zmiennoprzecinkowymi\n",
    "            if any(df[col].dtype == 'float64' for col in df.columns):\n",
    "                # Zapisujemy DataFrame do pliku pickle\n",
    "                df.to_pickle(\"proj2_ex01.pkl\")\n",
    "                print(\"DataFrame został pomyślnie wczytany i zapisany do proj2_ex01.pkl.\")\n",
    "                # Wyświetlamy pierwsze kilka wierszy DataFrame\n",
    "                print(df.head())\n",
    "                break\n",
    "        except Exception as e:\n",
    "            # Jeśli wystąpi błąd, próbujemy następnej kombinacji separatorów i znaków dziesiętnych\n",
    "            continue\n",
    "    else:\n",
    "        continue\n",
    "    break  # Wychodzimy z pętli zewnętrznej, jeśli sukces\n",
    "else:\n",
    "    print(\"Nie udało się wczytać DataFrame z pliku, używając żadnych zdefiniowanych separatorów i znaków dziesiętnych.\")\n"
   ]
  },
  {
   "cell_type": "code",
   "execution_count": 4,
   "id": "6d1defca-2b1b-4cdb-9744-d1255ee0e01a",
   "metadata": {},
   "outputs": [],
   "source": [
    "#Exercise 2 to dobrze "
   ]
  },
  {
   "cell_type": "code",
   "execution_count": 5,
   "id": "2579d27e-8d1a-415b-b809-91238dde460d",
   "metadata": {},
   "outputs": [],
   "source": [
    "# Wczytaj wartości skali z pliku tekstowego\n",
    "with open(\"proj2_scale.txt\", \"r\") as f:\n",
    "    wartosci_skali = [line.strip() for line in f]\n",
    "\n",
    "# Utwórz kopię początkowego DataFrame\n",
    "df_kopia = df.copy()\n",
    "\n",
    "# Iteruj przez kolumny DataFrame\n",
    "for kolumna in df_kopia.columns:\n",
    "    # Sprawdź, czy wartości w kolumnie są podzbiorem wartości skali\n",
    "    if set(df_kopia[kolumna].unique()).issubset(set(wartosci_skali)):\n",
    "        # Zastąp wartości ich odpowiednikami numerycznymi\n",
    "        df_kopia[kolumna] = df_kopia[kolumna].apply(lambda x: wartosci_skali.index(x) + 1)\n",
    "\n",
    "# Zapisz zmodyfikowany DataFrame do pliku pickle\n",
    "df_kopia.to_pickle(\"proj2_ex02.pkl\")"
   ]
  },
  {
   "cell_type": "code",
   "execution_count": 6,
   "id": "1a154053-e70c-4f72-a3a1-651d1b30adaa",
   "metadata": {},
   "outputs": [],
   "source": [
    "#Exercise 3 to dobrze"
   ]
  },
  {
   "cell_type": "code",
   "execution_count": 7,
   "id": "8441d040-3525-4233-9135-397a8294baf6",
   "metadata": {},
   "outputs": [],
   "source": [
    "# Wczytaj wartości skali z pliku tekstowego\n",
    "with open(\"proj2_scale.txt\", \"r\") as f:\n",
    "    wartosci_skali = [line.strip() for line in f]\n",
    "\n",
    "# Utwórz kolejną kopię początkowego DataFrame\n",
    "df_kopia2 = df.copy()\n",
    "\n",
    "# Iteruj przez kolumny DataFrame\n",
    "for kolumna in df_kopia2.columns:\n",
    "    # Sprawdź, czy wartości w kolumnie są podzbiorem wartości skali\n",
    "    if set(df_kopia2[kolumna].unique()).issubset(set(wartosci_skali)):\n",
    "        # Zmień typ kolumny na kategoryczny\n",
    "        df_kopia2[kolumna] = df_kopia2[kolumna].astype('category')\n",
    "        # Ustaw kategorie dla kolumny tak, aby odzwierciedlały całą listę wczytaną z pliku tekstowego\n",
    "        df_kopia2[kolumna] = pd.Categorical(df_kopia2[kolumna], categories=wartosci_skali, ordered=True)\n",
    "\n",
    "# Zapisz zmodyfikowany DataFrame do pliku pickle\n",
    "df_kopia2.to_pickle(\"proj2_ex03.pkl\")"
   ]
  },
  {
   "cell_type": "code",
   "execution_count": 8,
   "id": "c17478ce-6dab-49dc-b6d5-6084a96bff65",
   "metadata": {},
   "outputs": [],
   "source": [
    "#Exercise 4 "
   ]
  },
  {
   "cell_type": "code",
   "execution_count": 9,
   "id": "b15e890c-c255-4636-96ad-4998ad956891",
   "metadata": {},
   "outputs": [],
   "source": [
    "import re"
   ]
  },
  {
   "cell_type": "code",
   "execution_count": 14,
   "id": "6ac3e80f-6d3e-4071-b901-48a1b41ee22d",
   "metadata": {},
   "outputs": [
    {
     "data": {
      "text/html": [
       "<div>\n",
       "<style scoped>\n",
       "    .dataframe tbody tr th:only-of-type {\n",
       "        vertical-align: middle;\n",
       "    }\n",
       "\n",
       "    .dataframe tbody tr th {\n",
       "        vertical-align: top;\n",
       "    }\n",
       "\n",
       "    .dataframe thead th {\n",
       "        text-align: right;\n",
       "    }\n",
       "</style>\n",
       "<table border=\"1\" class=\"dataframe\">\n",
       "  <thead>\n",
       "    <tr style=\"text-align: right;\">\n",
       "      <th></th>\n",
       "      <th>jury_score</th>\n",
       "    </tr>\n",
       "  </thead>\n",
       "  <tbody>\n",
       "    <tr>\n",
       "      <th>0</th>\n",
       "      <td>3.5</td>\n",
       "    </tr>\n",
       "    <tr>\n",
       "      <th>1</th>\n",
       "      <td>5.0</td>\n",
       "    </tr>\n",
       "    <tr>\n",
       "      <th>2</th>\n",
       "      <td>3.5</td>\n",
       "    </tr>\n",
       "    <tr>\n",
       "      <th>3</th>\n",
       "      <td>2.0</td>\n",
       "    </tr>\n",
       "    <tr>\n",
       "      <th>4</th>\n",
       "      <td>2.0</td>\n",
       "    </tr>\n",
       "    <tr>\n",
       "      <th>5</th>\n",
       "      <td>3.5</td>\n",
       "    </tr>\n",
       "    <tr>\n",
       "      <th>6</th>\n",
       "      <td>-1.0</td>\n",
       "    </tr>\n",
       "    <tr>\n",
       "      <th>7</th>\n",
       "      <td>0.0</td>\n",
       "    </tr>\n",
       "    <tr>\n",
       "      <th>8</th>\n",
       "      <td>NaN</td>\n",
       "    </tr>\n",
       "    <tr>\n",
       "      <th>9</th>\n",
       "      <td>NaN</td>\n",
       "    </tr>\n",
       "    <tr>\n",
       "      <th>10</th>\n",
       "      <td>2.0</td>\n",
       "    </tr>\n",
       "    <tr>\n",
       "      <th>11</th>\n",
       "      <td>4.0</td>\n",
       "    </tr>\n",
       "  </tbody>\n",
       "</table>\n",
       "</div>"
      ],
      "text/plain": [
       "    jury_score\n",
       "0          3.5\n",
       "1          5.0\n",
       "2          3.5\n",
       "3          2.0\n",
       "4          2.0\n",
       "5          3.5\n",
       "6         -1.0\n",
       "7          0.0\n",
       "8          NaN\n",
       "9          NaN\n",
       "10         2.0\n",
       "11         4.0"
      ]
     },
     "execution_count": 14,
     "metadata": {},
     "output_type": "execute_result"
    }
   ],
   "source": [
    "\n",
    "def extract_number(string):\n",
    "    pattern = r\"[-+]?\\d*\\.?\\d+\"\n",
    "    match = re.search(pattern, string.replace(',', '.'))\n",
    "    if match:\n",
    "        return float(match.group())\n",
    "    else:\n",
    "        return None\n",
    "\n",
    "df = pd.read_pickle(\"./proj2_ex03.pkl\") # ./ wskazanie że plik znajduje się w bieżącym katalogu roboczym\n",
    "extracted_numbers = {}\n",
    "\n",
    "for column in df.select_dtypes(exclude=['number']).columns:\n",
    "    nice_col = df[column].apply(lambda x: extract_number(str(x)))\n",
    "    if any(nice_col.notna()):\n",
    "        extracted_numbers[column] = nice_col\n",
    "\n",
    "extracted_df = pd.DataFrame(extracted_numbers)\n",
    "\n",
    "extracted_df.to_pickle(\"./proj2_ex04.pkl\")\n",
    "extracted_df"
   ]
  },
  {
   "cell_type": "code",
   "execution_count": 15,
   "id": "bd3cd3ea-23e3-4455-8d88-4b99f565865c",
   "metadata": {},
   "outputs": [],
   "source": [
    "#Exercise 5 "
   ]
  },
  {
   "cell_type": "code",
   "execution_count": 16,
   "id": "1c53525e-6008-4f39-baa7-12c4e70c0862",
   "metadata": {},
   "outputs": [
    {
     "name": "stdout",
     "output_type": "stream",
     "text": [
      "    drones  media  racing  robotics\n",
      "0     True  False   False     False\n",
      "1    False  False    True     False\n",
      "2    False   True   False     False\n",
      "3    False  False    True     False\n",
      "4    False  False    True     False\n",
      "5     True  False   False     False\n",
      "6    False   True   False     False\n",
      "7    False  False   False      True\n",
      "8    False   True   False     False\n",
      "9     True  False   False     False\n",
      "10    True  False   False     False\n",
      "11   False  False    True     False\n",
      "    cplusplus   java  python  swift\n",
      "0       False  False    True  False\n",
      "1       False   True   False  False\n",
      "2        True  False   False  False\n",
      "3       False  False   False   True\n",
      "4       False  False    True  False\n",
      "5       False  False    True  False\n",
      "6       False  False   False   True\n",
      "7        True  False   False  False\n",
      "8       False   True   False  False\n",
      "9       False   True   False  False\n",
      "10      False  False   False   True\n",
      "11      False  False    True  False\n"
     ]
    }
   ],
   "source": [
    "\n",
    "initial_df = pd.read_pickle(\"./proj2_ex01.pkl\")\n",
    "\n",
    "with open(\"./proj2_scale.txt\", \"r\") as f:\n",
    "    scale_values = [line.strip() for line in f]\n",
    "\n",
    "encoded_dfs = []\n",
    "\n",
    "for column in initial_df.select_dtypes(include=['object']):\n",
    "    unique_values = initial_df[column].unique()\n",
    "\n",
    "    if (len(unique_values) <= 10 and\n",
    "        all(value.islower() for value in unique_values) and\n",
    "        all(value not in scale_values for value in unique_values)):\n",
    "\n",
    "        encoded_df = pd.get_dummies(initial_df[column])\n",
    "        encoded_dfs.append(encoded_df)\n",
    "\n",
    "for idx, encoded_df in enumerate(encoded_dfs, start=1):\n",
    "    filename = f\"./proj2_ex05_{idx}.pkl\"\n",
    "    encoded_df.to_pickle(filename)\n",
    "    print(encoded_df)"
   ]
  },
  {
   "cell_type": "code",
   "execution_count": null,
   "id": "9f32dd02-bf44-471b-a102-432b14200119",
   "metadata": {},
   "outputs": [],
   "source": []
  }
 ],
 "metadata": {
  "kernelspec": {
   "display_name": "Python 3 (ipykernel)",
   "language": "python",
   "name": "python3"
  },
  "language_info": {
   "codemirror_mode": {
    "name": "ipython",
    "version": 3
   },
   "file_extension": ".py",
   "mimetype": "text/x-python",
   "name": "python",
   "nbconvert_exporter": "python",
   "pygments_lexer": "ipython3",
   "version": "3.11.8"
  }
 },
 "nbformat": 4,
 "nbformat_minor": 5
}
